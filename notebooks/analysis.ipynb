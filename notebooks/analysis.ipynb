{
 "cells": [
  {
   "cell_type": "code",
   "execution_count": null,
   "metadata": {},
   "outputs": [],
   "source": [
    "#tbd"
   ]
  },
  {
   "cell_type": "code",
   "execution_count": 8,
   "metadata": {},
   "outputs": [],
   "source": [
    "import numpy as np\n",
    "import polars as pl\n",
    "import pandas as pd\n",
    "\n",
    "import matplotlib.pyplot as plt\n",
    "import seaborn as sns\n",
    "\n",
    "import lightgbm as lgb\n",
    "import optuna\n",
    "import shap\n",
    "\n",
    "from sklearn.metrics import mean_squared_error\n",
    "from sklearn.model_selection import train_test_split\n",
    "\n",
    "import time\n",
    "import math\n",
    "import warnings\n",
    "\n",
    "warnings.filterwarnings(action='ignore')"
   ]
  },
  {
   "cell_type": "code",
   "execution_count": 2,
   "metadata": {},
   "outputs": [
    {
     "data": {
      "text/plain": [
       "(8585, 701)"
      ]
     },
     "execution_count": 2,
     "metadata": {},
     "output_type": "execute_result"
    }
   ],
   "source": [
    "# load data\n",
    "dataset = pl.read_parquet(\"../data/clean/dataset.parquet\")\n",
    "sbmssn = pl.read_parquet(\"../data/clean/sbmssn.parquet\")\n",
    "\n",
    "dataset.shape"
   ]
  },
  {
   "cell_type": "code",
   "execution_count": 3,
   "metadata": {},
   "outputs": [],
   "source": [
    "# lgbm data format\n",
    "lgb_data_train = lgb.Dataset(data=dataset.drop(['target']).to_pandas(), label=dataset.get_column('target').to_pandas())"
   ]
  },
  {
   "cell_type": "code",
   "execution_count": 5,
   "metadata": {},
   "outputs": [],
   "source": [
    "# fit the model with the tuned param and 10-fold cv for the boosting iterations\n",
    "params = {\n",
    "    'objective': 'regression',\n",
    "    'metric': 'rmse',\n",
    "    'boosting': 'gbdt',\n",
    "    'learning_rate': 0.005,\n",
    "    'num_leaves': 39,\n",
    "    'feature_fraction': 0.6,\n",
    "    'bagging_fraction': 1,\n",
    "    'cat_l2': 14.4,\n",
    "    'cat_smooth': 12,\n",
    "    'verbosity': -1,\n",
    "    'seed': 0\n",
    "}\n",
    "\n",
    "cv = lgb.cv(\n",
    "    params=params,\n",
    "    num_boost_round=5000,\n",
    "    train_set=lgb_data_train,\n",
    "    nfold=10,\n",
    "    seed=0,\n",
    "    eval_train_metric=True,\n",
    "    stratified=False\n",
    ")"
   ]
  },
  {
   "cell_type": "code",
   "execution_count": 6,
   "metadata": {},
   "outputs": [
    {
     "name": "stdout",
     "output_type": "stream",
     "text": [
      "\n",
      "Optimal Round: 2098\n",
      "Optimal Score: 9.283727463087626 + 0.21577668538012398\n"
     ]
    }
   ],
   "source": [
    "optimal_rounds = np.argmin(cv['valid rmse-mean'])\n",
    "best_cv_score = min(cv['valid rmse-mean'])\n",
    "\n",
    "print(\"\\nOptimal Round: {}\\nOptimal Score: {} + {}\".format(\n",
    "    optimal_rounds, best_cv_score, cv['valid rmse-stdv'][optimal_rounds]))"
   ]
  },
  {
   "cell_type": "code",
   "execution_count": 10,
   "metadata": {},
   "outputs": [
    {
     "data": {
      "image/png": "[encoded data removed]",
      "text/plain": [
       "<Figure size 640x480 with 1 Axes>"
      ]
     },
     "metadata": {},
     "output_type": "display_data"
    }
   ],
   "source": [
    "# plot cross-validated line\n",
    "pltdat = pd.DataFrame({'valid_rmse_mean': cv['valid rmse-mean']})\n",
    "\n",
    "ax = sns.lineplot(data=pltdat, x=pltdat.index, y=\"valid_rmse_mean\", ci=None)"
   ]
  },
  {
   "cell_type": "code",
   "execution_count": 12,
   "metadata": {},
   "outputs": [],
   "source": [
    "params.update({'num_iterations': optimal_rounds})\n",
    "\n",
    "bst = lgb.train(\n",
    "    params=params,\n",
    "    train_set=lgb_data_train,\n",
    ")"
   ]
  },
  {
   "cell_type": "code",
   "execution_count": 18,
   "metadata": {},
   "outputs": [
    {
     "data": {
      "text/html": [
       "<div><style>\n",
       ".dataframe > thead > tr > th,\n",
       ".dataframe > tbody > tr > td {\n",
       "  text-align: right;\n",
       "}\n",
       "</style>\n",
       "<small>shape: (4, 701)</small><table border=\"1\" class=\"dataframe\"><thead><tr><th>child_id</th><th>data_year</th><th>child_date</th><th>child_age</th><th>child_enrolment_date</th><th>child_months_enrolment</th><th>child_grant</th><th>child_years_in_programme</th><th>child_height</th><th>child_observe_attentive</th><th>child_observe_concentrated</th><th>child_observe_diligent</th><th>child_observe_interested</th><th>child_observe_total</th><th>child_gender</th><th>child_dob</th><th>child_zha</th><th>child_stunted</th><th>child_attends</th><th>child_attendance</th><th>child_age_group</th><th>id_mn_best</th><th>prov_best</th><th>id_dc_best</th><th>dc_best</th><th>mn_best</th><th>ward_best</th><th>id_enumerator</th><th>id_facility</th><th>pqa_date</th><th>pqa_class_age_1</th><th>pqa_class_age_2</th><th>pqa_class_age_3</th><th>pqa_class_age_4</th><th>pqa_class_age_5</th><th>pqa_class_age_6</th><th>pqa_class_assistants</th><th>&hellip;</th><th>obs_date_year</th><th>obs_date_month</th><th>obs_date_quarter</th><th>obs_date_week</th><th>child_languages_Afrikaans</th><th>child_languages_English</th><th>child_languages_isiNdebele</th><th>child_languages_isiXhosa</th><th>child_languages_isiZulu</th><th>child_languages_Xitsonga</th><th>child_languages_Setswana</th><th>child_languages_Sesotho</th><th>child_languages_Sepedi</th><th>pri_languages_Afrikaans</th><th>pri_languages_English</th><th>pri_languages_isiXhosa</th><th>pri_languages_isiZulu</th><th>pri_languages_Setswana</th><th>pri_languages_Sesotho</th><th>pri_staff_changes_reasons_1</th><th>pri_staff_changes_reasons_2</th><th>pri_staff_changes_reasons_3</th><th>pri_staff_changes_reasons_4</th><th>pri_staff_changes_reasons_5</th><th>pri_staff_changes_reasons_6</th><th>pri_staff_changes_reasons_97</th><th>pri_food_donor_1</th><th>pri_food_donor_2</th><th>pri_food_donor_3</th><th>pri_food_donor_4</th><th>pri_food_donor_97</th><th>health_1</th><th>health_2</th><th>health_3</th><th>health_4</th><th>health_5</th><th>health_97</th></tr><tr><td>str</td><td>f64</td><td>i32</td><td>f64</td><td>i32</td><td>f64</td><td>cat</td><td>cat</td><td>f64</td><td>cat</td><td>cat</td><td>cat</td><td>cat</td><td>f64</td><td>cat</td><td>i32</td><td>f64</td><td>cat</td><td>cat</td><td>f64</td><td>cat</td><td>cat</td><td>cat</td><td>cat</td><td>cat</td><td>cat</td><td>f64</td><td>cat</td><td>cat</td><td>i32</td><td>cat</td><td>cat</td><td>cat</td><td>cat</td><td>cat</td><td>cat</td><td>f64</td><td>&hellip;</td><td>i32</td><td>u32</td><td>u32</td><td>u32</td><td>cat</td><td>cat</td><td>cat</td><td>cat</td><td>cat</td><td>cat</td><td>cat</td><td>cat</td><td>cat</td><td>cat</td><td>cat</td><td>cat</td><td>cat</td><td>cat</td><td>cat</td><td>cat</td><td>cat</td><td>cat</td><td>cat</td><td>cat</td><td>cat</td><td>cat</td><td>cat</td><td>cat</td><td>cat</td><td>cat</td><td>cat</td><td>cat</td><td>cat</td><td>cat</td><td>cat</td><td>cat</td><td>cat</td></tr></thead><tbody><tr><td>&quot;ID_0I0999N6S&quot;</td><td>2021.0</td><td>18890</td><td>57.0</td><td>null</td><td>null</td><td>&quot;Yes&quot;</td><td>&quot;2nd year in pr…</td><td>108.0</td><td>&quot;Almost always&quot;</td><td>&quot;Often&quot;</td><td>&quot;Almost always&quot;</td><td>&quot;Almost always&quot;</td><td>11.0</td><td>&quot;Female&quot;</td><td>17143</td><td>0.038152</td><td>&quot;Normal&quot;</td><td>null</td><td>null</td><td>&quot;50-59 months&quot;</td><td>&quot;LIM354&quot;</td><td>&quot;LIMPOPO&quot;</td><td>&quot;DC35&quot;</td><td>&quot;CAPRICORN&quot;</td><td>&quot;POLOKWANE&quot;</td><td>8.0</td><td>&quot;1732&quot;</td><td>&quot;1878&quot;</td><td>null</td><td>null</td><td>null</td><td>null</td><td>null</td><td>null</td><td>null</td><td>null</td><td>&hellip;</td><td>null</td><td>null</td><td>null</td><td>null</td><td>null</td><td>null</td><td>null</td><td>null</td><td>null</td><td>null</td><td>null</td><td>null</td><td>null</td><td>null</td><td>null</td><td>null</td><td>null</td><td>null</td><td>null</td><td>null</td><td>null</td><td>null</td><td>null</td><td>null</td><td>null</td><td>null</td><td>null</td><td>null</td><td>null</td><td>null</td><td>null</td><td>null</td><td>null</td><td>null</td><td>null</td><td>null</td><td>null</td></tr><tr><td>&quot;ID_GQ6ONJ4FP&quot;</td><td>2021.0</td><td>18921</td><td>54.0</td><td>18637</td><td>9.0</td><td>&quot;Yes&quot;</td><td>&quot;1st year in th…</td><td>105.0</td><td>&quot;Almost always&quot;</td><td>&quot;Almost always&quot;</td><td>&quot;Often&quot;</td><td>&quot;Almost always&quot;</td><td>11.0</td><td>&quot;Female&quot;</td><td>17251</td><td>-0.259006</td><td>&quot;Normal&quot;</td><td>null</td><td>null</td><td>&quot;50-59 months&quot;</td><td>&quot;KZN252&quot;</td><td>&quot;KWAZULU-NATAL&quot;</td><td>&quot;DC25&quot;</td><td>&quot;AMAJUBA&quot;</td><td>&quot;NEWCASTLE&quot;</td><td>21.0</td><td>&quot;484&quot;</td><td>&quot;268&quot;</td><td>null</td><td>null</td><td>null</td><td>null</td><td>null</td><td>null</td><td>null</td><td>null</td><td>&hellip;</td><td>null</td><td>null</td><td>null</td><td>null</td><td>null</td><td>null</td><td>null</td><td>null</td><td>null</td><td>null</td><td>null</td><td>null</td><td>null</td><td>null</td><td>null</td><td>null</td><td>null</td><td>null</td><td>null</td><td>null</td><td>null</td><td>null</td><td>null</td><td>null</td><td>null</td><td>null</td><td>null</td><td>null</td><td>null</td><td>null</td><td>null</td><td>null</td><td>null</td><td>null</td><td>null</td><td>null</td><td>null</td></tr><tr><td>&quot;ID_YZ76CVRW3&quot;</td><td>2021.0</td><td>18764</td><td>57.0</td><td>null</td><td>null</td><td>&quot;Yes&quot;</td><td>null</td><td>101.5</td><td>&quot;Often&quot;</td><td>&quot;Often&quot;</td><td>&quot;Often&quot;</td><td>&quot;Often&quot;</td><td>8.0</td><td>&quot;Male&quot;</td><td>17021</td><td>-1.507299</td><td>&quot;Normal&quot;</td><td>null</td><td>null</td><td>&quot;50-59 months&quot;</td><td>&quot;MP324&quot;</td><td>&quot;MPUMALANGA&quot;</td><td>&quot;DC32&quot;</td><td>&quot;EHLANZENI&quot;</td><td>&quot;NKOMAZI&quot;</td><td>20.0</td><td>&quot;20060&quot;</td><td>&quot;1683&quot;</td><td>null</td><td>null</td><td>null</td><td>null</td><td>null</td><td>null</td><td>null</td><td>null</td><td>&hellip;</td><td>null</td><td>null</td><td>null</td><td>null</td><td>null</td><td>null</td><td>null</td><td>null</td><td>null</td><td>null</td><td>null</td><td>null</td><td>null</td><td>null</td><td>null</td><td>null</td><td>null</td><td>null</td><td>null</td><td>null</td><td>null</td><td>null</td><td>null</td><td>null</td><td>null</td><td>null</td><td>null</td><td>null</td><td>null</td><td>null</td><td>null</td><td>null</td><td>null</td><td>null</td><td>null</td><td>null</td><td>null</td></tr><tr><td>&quot;ID_BNINCRXH8&quot;</td><td>2022.0</td><td>19244</td><td>59.334702</td><td>null</td><td>null</td><td>null</td><td>&quot;3rd year in pr…</td><td>null</td><td>&quot;Almost always&quot;</td><td>&quot;Almost always&quot;</td><td>&quot;Almost always&quot;</td><td>&quot;Often&quot;</td><td>11.0</td><td>&quot;Female&quot;</td><td>17438</td><td>null</td><td>null</td><td>&quot;Yes&quot;</td><td>5.0</td><td>&quot;50-59 months&quot;</td><td>null</td><td>&quot;FREE STATE&quot;</td><td>null</td><td>null</td><td>null</td><td>null</td><td>&quot;43&quot;</td><td>&quot;2222&quot;</td><td>null</td><td>null</td><td>null</td><td>null</td><td>null</td><td>null</td><td>null</td><td>null</td><td>&hellip;</td><td>null</td><td>null</td><td>null</td><td>null</td><td>&quot;No&quot;</td><td>&quot;No&quot;</td><td>&quot;No&quot;</td><td>&quot;No&quot;</td><td>&quot;No&quot;</td><td>&quot;No&quot;</td><td>&quot;No&quot;</td><td>&quot;Yes&quot;</td><td>&quot;No&quot;</td><td>&quot;No&quot;</td><td>&quot;No&quot;</td><td>&quot;No&quot;</td><td>&quot;No&quot;</td><td>&quot;No&quot;</td><td>&quot;Yes&quot;</td><td>null</td><td>null</td><td>null</td><td>null</td><td>null</td><td>null</td><td>null</td><td>null</td><td>null</td><td>null</td><td>null</td><td>null</td><td>null</td><td>null</td><td>null</td><td>null</td><td>null</td><td>null</td></tr></tbody></table></div>"
      ],
      "text/plain": [
       "shape: (4, 701)\n",
       "┌────────────┬───────────┬────────────┬───────────┬───┬──────────┬──────────┬──────────┬───────────┐\n",
       "│ child_id   ┆ data_year ┆ child_date ┆ child_age ┆ … ┆ health_3 ┆ health_4 ┆ health_5 ┆ health_97 │\n",
       "│ ---        ┆ ---       ┆ ---        ┆ ---       ┆   ┆ ---      ┆ ---      ┆ ---      ┆ ---       │\n",
       "│ str        ┆ f64       ┆ i32        ┆ f64       ┆   ┆ cat      ┆ cat      ┆ cat      ┆ cat       │\n",
       "╞════════════╪═══════════╪════════════╪═══════════╪═══╪══════════╪══════════╪══════════╪═══════════╡\n",
       "│ ID_0I0999N ┆ 2021.0    ┆ 18890      ┆ 57.0      ┆ … ┆ null     ┆ null     ┆ null     ┆ null      │\n",
       "│ 6S         ┆           ┆            ┆           ┆   ┆          ┆          ┆          ┆           │\n",
       "│ ID_GQ6ONJ4 ┆ 2021.0    ┆ 18921      ┆ 54.0      ┆ … ┆ null     ┆ null     ┆ null     ┆ null      │\n",
       "│ FP         ┆           ┆            ┆           ┆   ┆          ┆          ┆          ┆           │\n",
       "│ ID_YZ76CVR ┆ 2021.0    ┆ 18764      ┆ 57.0      ┆ … ┆ null     ┆ null     ┆ null     ┆ null      │\n",
       "│ W3         ┆           ┆            ┆           ┆   ┆          ┆          ┆          ┆           │\n",
       "│ ID_BNINCRX ┆ 2022.0    ┆ 19244      ┆ 59.334702 ┆ … ┆ null     ┆ null     ┆ null     ┆ null      │\n",
       "│ H8         ┆           ┆            ┆           ┆   ┆          ┆          ┆          ┆           │\n",
       "└────────────┴───────────┴────────────┴───────────┴───┴──────────┴──────────┴──────────┴───────────┘"
      ]
     },
     "execution_count": 18,
     "metadata": {},
     "output_type": "execute_result"
    }
   ],
   "source": [
    "sbmssn.head(n=4)"
   ]
  },
  {
   "cell_type": "code",
   "execution_count": null,
   "metadata": {},
   "outputs": [],
   "source": [
    "# create final predictions\n",
    "df_to_predict = sbmssn.drop('child_id').to_pandas()\n",
    "sbmssn_pred = bst.predict(df_to_predict)"
   ]
  },
  {
   "cell_type": "code",
   "execution_count": 24,
   "metadata": {},
   "outputs": [],
   "source": [
    "# explain final model\n",
    "explainer = shap.TreeExplainer(bst)\n",
    "shap_values = explainer.shap_values(df_to_predict)"
   ]
  },
  {
   "cell_type": "code",
   "execution_count": null,
   "metadata": {},
   "outputs": [],
   "source": [
    "# visualize all the training set predictions\n",
    "shap.plots.force(explainer.expected_value, shap_values)"
   ]
  },
  {
   "cell_type": "code",
   "execution_count": null,
   "metadata": {},
   "outputs": [],
   "source": [
    "# summarize the effects of all the features\n",
    "shap.plots.beeswarm()"
   ]
  },
  {
   "cell_type": "code",
   "execution_count": 30,
   "metadata": {},
   "outputs": [
    {
     "data": {
      "text/html": [
       "<div><style>\n",
       ".dataframe > thead > tr > th,\n",
       ".dataframe > tbody > tr > td {\n",
       "  text-align: right;\n",
       "}\n",
       "</style>\n",
       "<small>shape: (3680, 17)</small><table border=\"1\" class=\"dataframe\"><thead><tr><th>child_id</th><th>target</th><th>feature_1</th><th>feature_2</th><th>feature_3</th><th>feature_4</th><th>feature_5</th><th>feature_6</th><th>feature_7</th><th>feature_8</th><th>feature_9</th><th>feature_10</th><th>feature_11</th><th>feature_12</th><th>feature_13</th><th>feature_14</th><th>feature_15</th></tr><tr><td>str</td><td>f64</td><td>str</td><td>str</td><td>str</td><td>str</td><td>str</td><td>str</td><td>str</td><td>str</td><td>str</td><td>str</td><td>str</td><td>str</td><td>str</td><td>str</td><td>str</td></tr></thead><tbody><tr><td>&quot;ID_0I0999N6S&quot;</td><td>62.387343</td><td>&quot;child_observe_…</td><td>&quot;child_observe_…</td><td>&quot;teacher_emotio…</td><td>&quot;child_observe_…</td><td>&quot;id_mn_best&quot;</td><td>&quot;child_observe_…</td><td>&quot;mn_best&quot;</td><td>&quot;teacher_social…</td><td>&quot;child_gender&quot;</td><td>&quot;teacher_social…</td><td>&quot;child_observe_…</td><td>&quot;child_dob&quot;</td><td>&quot;child_dob_week…</td><td>&quot;teacher_emotio…</td><td>&quot;teacher_emotio…</td></tr><tr><td>&quot;ID_GQ6ONJ4FP&quot;</td><td>48.730452</td><td>&quot;child_observe_…</td><td>&quot;teacher_emotio…</td><td>&quot;child_observe_…</td><td>&quot;child_observe_…</td><td>&quot;child_observe_…</td><td>&quot;child_observe_…</td><td>&quot;child_gender&quot;</td><td>&quot;teacher_social…</td><td>&quot;teacher_social…</td><td>&quot;teacher_emotio…</td><td>&quot;teacher_emotio…</td><td>&quot;teacher_emotio…</td><td>&quot;teacher_emotio…</td><td>&quot;id_dc_best&quot;</td><td>&quot;pri_dsd_year&quot;</td></tr><tr><td>&quot;ID_YZ76CVRW3&quot;</td><td>46.941412</td><td>&quot;id_enumerator&quot;</td><td>&quot;child_observe_…</td><td>&quot;id_mn_best&quot;</td><td>&quot;child_observe_…</td><td>&quot;mn_best&quot;</td><td>&quot;child_dob&quot;</td><td>&quot;gps_lon&quot;</td><td>&quot;language_child…</td><td>&quot;count_register…</td><td>&quot;prov_best&quot;</td><td>&quot;id_dc_best&quot;</td><td>&quot;teacher_social…</td><td>&quot;child_years_in…</td><td>&quot;count_register…</td><td>&quot;pri_fees_amoun…</td></tr><tr><td>&quot;ID_BNINCRXH8&quot;</td><td>70.474913</td><td>&quot;id_enumerator&quot;</td><td>&quot;child_observe_…</td><td>&quot;child_observe_…</td><td>&quot;child_observe_…</td><td>&quot;child_observe_…</td><td>&quot;child_height&quot;</td><td>&quot;child_age&quot;</td><td>&quot;child_date&quot;</td><td>&quot;child_gender&quot;</td><td>&quot;child_zha&quot;</td><td>&quot;teacher_social…</td><td>&quot;id_dc_best&quot;</td><td>&quot;teacher_emotio…</td><td>&quot;gps_lat&quot;</td><td>&quot;teacher_emotio…</td></tr><tr><td>&quot;ID_1U7GDTLRI&quot;</td><td>45.327723</td><td>&quot;id_enumerator&quot;</td><td>&quot;child_observe_…</td><td>&quot;child_observe_…</td><td>&quot;child_observe_…</td><td>&quot;child_observe_…</td><td>&quot;latitude&quot;</td><td>&quot;id_ward&quot;</td><td>&quot;id_team&quot;</td><td>&quot;teacher_emotio…</td><td>&quot;id_dc_best&quot;</td><td>&quot;count_register…</td><td>&quot;pri_calc_time_…</td><td>&quot;prov_best&quot;</td><td>&quot;pri_time_close…</td><td>&quot;teacher_durati…</td></tr><tr><td>&quot;ID_HUPM6GALH&quot;</td><td>66.559236</td><td>&quot;id_enumerator&quot;</td><td>&quot;id_ward&quot;</td><td>&quot;child_age&quot;</td><td>&quot;child_observe_…</td><td>&quot;child_height&quot;</td><td>&quot;child_observe_…</td><td>&quot;child_age_grou…</td><td>&quot;ses_proxy&quot;</td><td>&quot;child_observe_…</td><td>&quot;child_date&quot;</td><td>&quot;child_gender&quot;</td><td>&quot;mn_best&quot;</td><td>&quot;child_zha&quot;</td><td>&quot;id_mn_best&quot;</td><td>&quot;child_dob&quot;</td></tr><tr><td>&quot;ID_RLC7D66D6&quot;</td><td>41.787685</td><td>&quot;child_observe_…</td><td>&quot;child_observe_…</td><td>&quot;child_height&quot;</td><td>&quot;child_observe_…</td><td>&quot;child_observe_…</td><td>&quot;child_observe_…</td><td>&quot;pri_expense_st…</td><td>&quot;teacher_emotio…</td><td>&quot;teacher_emotio…</td><td>&quot;teacher_emotio…</td><td>&quot;teacher_social…</td><td>&quot;child_years_in…</td><td>&quot;teacher_social…</td><td>&quot;pri_expense_fo…</td><td>&quot;child_dob&quot;</td></tr><tr><td>&quot;ID_3IDOXBRX5&quot;</td><td>44.345717</td><td>&quot;child_observe_…</td><td>&quot;child_observe_…</td><td>&quot;teacher_emotio…</td><td>&quot;child_observe_…</td><td>&quot;child_observe_…</td><td>&quot;child_zha&quot;</td><td>&quot;child_date&quot;</td><td>&quot;teacher_social…</td><td>&quot;child_date_wee…</td><td>&quot;child_gender&quot;</td><td>&quot;teacher_emotio…</td><td>&quot;child_years_in…</td><td>&quot;teacher_emotio…</td><td>&quot;teacher_social…</td><td>&quot;teacher_emotio…</td></tr><tr><td>&quot;ID_5HF27TNFX&quot;</td><td>48.78381</td><td>&quot;id_enumerator&quot;</td><td>&quot;child_observe_…</td><td>&quot;child_observe_…</td><td>&quot;child_observe_…</td><td>&quot;id_facility&quot;</td><td>&quot;child_observe_…</td><td>&quot;id_dc_best&quot;</td><td>&quot;child_zha&quot;</td><td>&quot;id_mn_best&quot;</td><td>&quot;child_dob&quot;</td><td>&quot;dc_best&quot;</td><td>&quot;gps_lon&quot;</td><td>&quot;count_register…</td><td>&quot;mn_best&quot;</td><td>&quot;teacher_social…</td></tr><tr><td>&quot;ID_C9RZNXMYF&quot;</td><td>47.696574</td><td>&quot;teacher_emotio…</td><td>&quot;child_observe_…</td><td>&quot;id_mn_best&quot;</td><td>&quot;child_age&quot;</td><td>&quot;mn_best&quot;</td><td>&quot;child_observe_…</td><td>&quot;child_dob&quot;</td><td>&quot;teacher_social…</td><td>&quot;teacher_emotio…</td><td>&quot;child_date&quot;</td><td>&quot;teacher_emotio…</td><td>&quot;teacher_emotio…</td><td>&quot;teacher_social…</td><td>&quot;teacher_emotio…</td><td>&quot;child_observe_…</td></tr><tr><td>&quot;ID_63GVO6496&quot;</td><td>58.197835</td><td>&quot;id_facility&quot;</td><td>&quot;id_enumerator&quot;</td><td>&quot;child_observe_…</td><td>&quot;child_observe_…</td><td>&quot;child_observe_…</td><td>&quot;child_date&quot;</td><td>&quot;child_observe_…</td><td>&quot;child_date_wee…</td><td>&quot;child_gender&quot;</td><td>&quot;id_dc_best&quot;</td><td>&quot;id_ward&quot;</td><td>&quot;child_date_mon…</td><td>&quot;gps_lon&quot;</td><td>&quot;child_language…</td><td>&quot;teacher_emotio…</td></tr><tr><td>&quot;ID_MQDKXQO9R&quot;</td><td>32.969509</td><td>&quot;child_enrolmen…</td><td>&quot;child_observe_…</td><td>&quot;child_date&quot;</td><td>&quot;id_team&quot;</td><td>&quot;teacher_emotio…</td><td>&quot;count_register…</td><td>&quot;teacher_social…</td><td>&quot;id_dc_best&quot;</td><td>&quot;teacher_social…</td><td>&quot;prov_best&quot;</td><td>&quot;child_months_e…</td><td>&quot;child_years_in…</td><td>&quot;pri_calc_time_…</td><td>&quot;pri_amount_fun…</td><td>&quot;id_ward_n&quot;</td></tr><tr><td>&hellip;</td><td>&hellip;</td><td>&hellip;</td><td>&hellip;</td><td>&hellip;</td><td>&hellip;</td><td>&hellip;</td><td>&hellip;</td><td>&hellip;</td><td>&hellip;</td><td>&hellip;</td><td>&hellip;</td><td>&hellip;</td><td>&hellip;</td><td>&hellip;</td><td>&hellip;</td><td>&hellip;</td></tr><tr><td>&quot;ID_2P6ION11Z&quot;</td><td>59.15818</td><td>&quot;child_age&quot;</td><td>&quot;child_observe_…</td><td>&quot;child_observe_…</td><td>&quot;teacher_emotio…</td><td>&quot;child_observe_…</td><td>&quot;child_observe_…</td><td>&quot;pri_fees_amoun…</td><td>&quot;pri_fees_amoun…</td><td>&quot;child_age_grou…</td><td>&quot;ses_proxy&quot;</td><td>&quot;child_gender&quot;</td><td>&quot;id_dc_best&quot;</td><td>&quot;mn_best&quot;</td><td>&quot;child_height&quot;</td><td>&quot;id_mn_best&quot;</td></tr><tr><td>&quot;ID_2T7W4DC6H&quot;</td><td>71.418862</td><td>&quot;id_enumerator&quot;</td><td>&quot;child_date&quot;</td><td>&quot;child_observe_…</td><td>&quot;child_observe_…</td><td>&quot;child_age&quot;</td><td>&quot;child_observe_…</td><td>&quot;child_height&quot;</td><td>&quot;child_observe_…</td><td>&quot;child_age_grou…</td><td>&quot;child_zha&quot;</td><td>&quot;child_gender&quot;</td><td>&quot;gps_lon&quot;</td><td>&quot;id_dc_best&quot;</td><td>&quot;child_date_wee…</td><td>&quot;prov_best&quot;</td></tr><tr><td>&quot;ID_U1QSCG86K&quot;</td><td>48.215553</td><td>&quot;child_observe_…</td><td>&quot;child_observe_…</td><td>&quot;child_observe_…</td><td>&quot;child_observe_…</td><td>&quot;child_observe_…</td><td>&quot;child_age&quot;</td><td>&quot;child_date&quot;</td><td>&quot;quintile&quot;</td><td>&quot;child_dob&quot;</td><td>&quot;teacher_emotio…</td><td>&quot;teacher_emotio…</td><td>&quot;child_date_mon…</td><td>&quot;teacher_social…</td><td>&quot;child_gender&quot;</td><td>&quot;teacher_social…</td></tr><tr><td>&quot;ID_4IDPH6UPB&quot;</td><td>50.624447</td><td>&quot;id_enumerator&quot;</td><td>&quot;child_date&quot;</td><td>&quot;child_date_wee…</td><td>&quot;id_ward&quot;</td><td>&quot;child_height&quot;</td><td>&quot;child_date_mon…</td><td>&quot;child_enrolmen…</td><td>&quot;id_dc_best&quot;</td><td>&quot;teacher_emotio…</td><td>&quot;dc_best&quot;</td><td>&quot;teacher_social…</td><td>&quot;child_zha&quot;</td><td>&quot;pri_time_close…</td><td>&quot;count_register…</td><td>&quot;child_enrolmen…</td></tr><tr><td>&quot;ID_IPAZQFXZG&quot;</td><td>27.886131</td><td>&quot;id_enumerator&quot;</td><td>&quot;pri_year&quot;</td><td>&quot;child_gender&quot;</td><td>&quot;count_register…</td><td>&quot;id_dc_best&quot;</td><td>&quot;pri_fees_amoun…</td><td>&quot;child_enrolmen…</td><td>&quot;child_date&quot;</td><td>&quot;teacher_emotio…</td><td>&quot;teacher_social…</td><td>&quot;pri_fees_amoun…</td><td>&quot;teacher_social…</td><td>&quot;prov_best&quot;</td><td>&quot;count_register…</td><td>&quot;teacher_social…</td></tr><tr><td>&quot;ID_5XYBVVIFB&quot;</td><td>65.82404</td><td>&quot;child_observe_…</td><td>&quot;child_age&quot;</td><td>&quot;child_observe_…</td><td>&quot;child_observe_…</td><td>&quot;child_observe_…</td><td>&quot;child_height&quot;</td><td>&quot;child_observe_…</td><td>&quot;child_age_grou…</td><td>&quot;ses_proxy&quot;</td><td>&quot;child_date&quot;</td><td>&quot;child_zha&quot;</td><td>&quot;id_mn_best&quot;</td><td>&quot;child_gender&quot;</td><td>&quot;mn_best&quot;</td><td>&quot;quintile&quot;</td></tr><tr><td>&quot;ID_J3LPOJU0A&quot;</td><td>44.811368</td><td>&quot;child_observe_…</td><td>&quot;child_observe_…</td><td>&quot;child_observe_…</td><td>&quot;child_observe_…</td><td>&quot;child_observe_…</td><td>&quot;child_height&quot;</td><td>&quot;pri_fees_amoun…</td><td>&quot;pri_fees_amoun…</td><td>&quot;id_mn_best&quot;</td><td>&quot;teacher_selfca…</td><td>&quot;child_dob&quot;</td><td>&quot;child_dob_week…</td><td>&quot;count_children…</td><td>&quot;pri_dsd_year&quot;</td><td>&quot;teacher_social…</td></tr><tr><td>&quot;ID_LBPQ2VMQZ&quot;</td><td>50.148648</td><td>&quot;child_age&quot;</td><td>&quot;id_facility&quot;</td><td>&quot;child_date&quot;</td><td>&quot;child_observe_…</td><td>&quot;child_observe_…</td><td>&quot;child_age_grou…</td><td>&quot;ses_proxy&quot;</td><td>&quot;quintile&quot;</td><td>&quot;child_height&quot;</td><td>&quot;child_observe_…</td><td>&quot;child_years_in…</td><td>&quot;language_asses…</td><td>&quot;teacher_social…</td><td>&quot;teacher_emotio…</td><td>&quot;teacher_durati…</td></tr><tr><td>&quot;ID_H2RKKMMKK&quot;</td><td>54.021308</td><td>&quot;id_enumerator&quot;</td><td>&quot;child_age&quot;</td><td>&quot;child_height&quot;</td><td>&quot;child_date&quot;</td><td>&quot;child_age_grou…</td><td>&quot;id_dc_best&quot;</td><td>&quot;pri_fees_amoun…</td><td>&quot;latitude&quot;</td><td>&quot;child_dob&quot;</td><td>&quot;mn_best&quot;</td><td>&quot;dc_best&quot;</td><td>&quot;child_date_wee…</td><td>&quot;child_zha&quot;</td><td>&quot;count_register…</td><td>&quot;ward_best&quot;</td></tr><tr><td>&quot;ID_VY8KX7YTZ&quot;</td><td>40.139236</td><td>&quot;child_observe_…</td><td>&quot;child_observe_…</td><td>&quot;child_observe_…</td><td>&quot;child_age&quot;</td><td>&quot;child_observe_…</td><td>&quot;child_observe_…</td><td>&quot;child_gender&quot;</td><td>&quot;child_dob&quot;</td><td>&quot;pra_class_size…</td><td>&quot;child_date&quot;</td><td>&quot;pra_class_atte…</td><td>&quot;pra_agency_cho…</td><td>&quot;pri_amount_fun…</td><td>&quot;child_grant&quot;</td><td>&quot;pri_expense_fo…</td></tr><tr><td>&quot;ID_EO2MYZ4M7&quot;</td><td>42.149758</td><td>&quot;id_enumerator&quot;</td><td>&quot;id_mn_best&quot;</td><td>&quot;mn_best&quot;</td><td>&quot;child_gender&quot;</td><td>&quot;child_zha&quot;</td><td>&quot;id_dc_best&quot;</td><td>&quot;pri_separate&quot;</td><td>&quot;teacher_emotio…</td><td>&quot;count_staff_sa…</td><td>&quot;pri_calc_time_…</td><td>&quot;count_register…</td><td>&quot;id_ward&quot;</td><td>&quot;pri_expense_st…</td><td>&quot;prov_best&quot;</td><td>&quot;teacher_emotio…</td></tr><tr><td>&quot;ID_NSFLRZ8ZU&quot;</td><td>40.742001</td><td>&quot;id_enumerator&quot;</td><td>&quot;child_age&quot;</td><td>&quot;child_age_grou…</td><td>&quot;id_dc_best&quot;</td><td>&quot;ward_best&quot;</td><td>&quot;child_dob&quot;</td><td>&quot;id_mn_best&quot;</td><td>&quot;latitude&quot;</td><td>&quot;dc_best&quot;</td><td>&quot;child_height&quot;</td><td>&quot;mn_best&quot;</td><td>&quot;language_asses…</td><td>&quot;language_child…</td><td>&quot;id_ward_n&quot;</td><td>&quot;count_register…</td></tr></tbody></table></div>"
      ],
      "text/plain": [
       "shape: (3_680, 17)\n",
       "┌────────────┬────────────┬─────────┬────────────┬───┬──────────┬──────────┬──────────┬────────────┐\n",
       "│ child_id   ┆ target     ┆ feature ┆ feature_2  ┆ … ┆ feature_ ┆ feature_ ┆ feature_ ┆ feature_15 │\n",
       "│ ---        ┆ ---        ┆ _1      ┆ ---        ┆   ┆ 12       ┆ 13       ┆ 14       ┆ ---        │\n",
       "│ str        ┆ f64        ┆ ---     ┆ str        ┆   ┆ ---      ┆ ---      ┆ ---      ┆ str        │\n",
       "│            ┆            ┆ str     ┆            ┆   ┆ str      ┆ str      ┆ str      ┆            │\n",
       "╞════════════╪════════════╪═════════╪════════════╪═══╪══════════╪══════════╪══════════╪════════════╡\n",
       "│ ID_0I0999N ┆ 62.387343  ┆ child_o ┆ child_obse ┆ … ┆ child_do ┆ child_do ┆ teacher_ ┆ teacher_em │\n",
       "│ 6S         ┆            ┆ bserve_ ┆ rve_total  ┆   ┆ b        ┆ b_week   ┆ emotiona ┆ otional_un │\n",
       "│            ┆            ┆ diligen ┆            ┆   ┆          ┆          ┆ l_met    ┆ derstand   │\n",
       "│            ┆            ┆ t       ┆            ┆   ┆          ┆          ┆          ┆            │\n",
       "│ ID_GQ6ONJ4 ┆ 48.730452  ┆ child_o ┆ teacher_em ┆ … ┆ teacher_ ┆ teacher_ ┆ id_dc_be ┆ pri_dsd_ye │\n",
       "│ FP         ┆            ┆ bserve_ ┆ otional_to ┆   ┆ emotiona ┆ emotiona ┆ st       ┆ ar         │\n",
       "│            ┆            ┆ total   ┆ tal        ┆   ┆ l_selfst ┆ l_met    ┆          ┆            │\n",
       "│            ┆            ┆         ┆            ┆   ┆ arter    ┆          ┆          ┆            │\n",
       "│ ID_YZ76CVR ┆ 46.941412  ┆ id_enum ┆ child_obse ┆ … ┆ teacher_ ┆ child_ye ┆ count_re ┆ pri_fees_a │\n",
       "│ W3         ┆            ┆ erator  ┆ rve_dilige ┆   ┆ social_p ┆ ars_in_p ┆ gister_y ┆ mount      │\n",
       "│            ┆            ┆         ┆ nt         ┆   ┆ eers     ┆ rogramme ┆ ear_2020 ┆            │\n",
       "│ ID_BNINCRX ┆ 70.474913  ┆ id_enum ┆ child_obse ┆ … ┆ id_dc_be ┆ teacher_ ┆ gps_lat  ┆ teacher_em │\n",
       "│ H8         ┆            ┆ erator  ┆ rve_total  ┆   ┆ st       ┆ emotiona ┆          ┆ otional_me │\n",
       "│            ┆            ┆         ┆            ┆   ┆          ┆ l_total  ┆          ┆ t          │\n",
       "│ …          ┆ …          ┆ …       ┆ …          ┆ … ┆ …        ┆ …        ┆ …        ┆ …          │\n",
       "│ ID_H2RKKMM ┆ 54.021308  ┆ id_enum ┆ child_age  ┆ … ┆ child_da ┆ child_zh ┆ count_re ┆ ward_best  │\n",
       "│ KK         ┆            ┆ erator  ┆            ┆   ┆ te_week  ┆ a        ┆ gister_y ┆            │\n",
       "│            ┆            ┆         ┆            ┆   ┆          ┆          ┆ ear_2020 ┆            │\n",
       "│ ID_VY8KX7Y ┆ 40.139236  ┆ child_o ┆ child_obse ┆ … ┆ pra_agen ┆ pri_amou ┆ child_gr ┆ pri_expens │\n",
       "│ TZ         ┆            ┆ bserve_ ┆ rve_dilige ┆   ┆ cy_choic ┆ nt_fundi ┆ ant      ┆ e_food     │\n",
       "│            ┆            ┆ total   ┆ nt         ┆   ┆ e        ┆ ng_fees  ┆          ┆            │\n",
       "│ ID_EO2MYZ4 ┆ 42.149758  ┆ id_enum ┆ id_mn_best ┆ … ┆ id_ward  ┆ pri_expe ┆ prov_bes ┆ teacher_em │\n",
       "│ M7         ┆            ┆ erator  ┆            ┆   ┆          ┆ nse_staf ┆ t        ┆ otional_ad │\n",
       "│            ┆            ┆         ┆            ┆   ┆          ┆ f        ┆          ┆ just       │\n",
       "│ ID_NSFLRZ8 ┆ 40.742001  ┆ id_enum ┆ child_age  ┆ … ┆ language ┆ language ┆ id_ward_ ┆ count_regi │\n",
       "│ ZU         ┆            ┆ erator  ┆            ┆   ┆ _assessm ┆ _child   ┆ n        ┆ ster_race_ │\n",
       "│            ┆            ┆         ┆            ┆   ┆ ent      ┆          ┆          ┆ african    │\n",
       "└────────────┴────────────┴─────────┴────────────┴───┴──────────┴──────────┴──────────┴────────────┘"
      ]
     },
     "execution_count": 30,
     "metadata": {},
     "output_type": "execute_result"
    }
   ],
   "source": [
    "ft = {\n",
    "    'feature_1': [], 'feature_2': [], 'feature_3': [], 'feature_4': [], 'feature_5': [], 'feature_6': [], 'feature_7': [],\n",
    "    'feature_8': [], 'feature_9': [], 'feature_10': [], 'feature_11': [], 'feature_12': [], 'feature_13': [], 'feature_14': [],\n",
    "    'feature_15': []\n",
    "}\n",
    "\n",
    "for sv in shap_values: \n",
    "    arr = np.argsort(sv)[::-1][:15]\n",
    "    for ind, a in enumerate(arr):\n",
    "        place = f'feature_{ind+1}'\n",
    "        ft[place].append(df_to_predict.columns[a])\n",
    "\n",
    "final_sub = sbmssn.select('child_id')\n",
    "final_sub = final_sub.with_columns(pl.Series(sbmssn_pred).alias('target'))\n",
    "\n",
    "ft = pl.DataFrame(ft)\n",
    "final_sub = pl.concat([final_sub, ft], how='horizontal')\n",
    "\n",
    "fname = '../submission/' + time.strftime(\"%Y%m%d-%H%M%S\") + '.csv'\n",
    "final_sub.write_csv(fname)"
   ]
  },
  {
   "cell_type": "code",
   "execution_count": null,
   "metadata": {},
   "outputs": [],
   "source": [
    "# sensitivity analysis"
   ]
  },
  {
   "cell_type": "code",
   "execution_count": 33,
   "metadata": {},
   "outputs": [
    {
     "ename": "NameError",
     "evalue": "name 'strftime' is not defined",
     "output_type": "error",
     "traceback": [
      "\u001b[1;31m---------------------------------------------------------------------------\u001b[0m",
      "\u001b[1;31mNameError\u001b[0m                                 Traceback (most recent call last)",
      "Cell \u001b[1;32mIn[33], line 1\u001b[0m\n\u001b[1;32m----> 1\u001b[0m strftime()\n",
      "\u001b[1;31mNameError\u001b[0m: name 'strftime' is not defined"
     ]
    }
   ],
   "source": [
    "\n"
   ]
  },
  {
   "cell_type": "code",
   "execution_count": null,
   "metadata": {},
   "outputs": [],
   "source": []
  }
 ],
 "metadata": {
  "kernelspec": {
   "display_name": ".venv",
   "language": "python",
   "name": "python3"
  },
  "language_info": {
   "codemirror_mode": {
    "name": "ipython",
    "version": 3
   },
   "file_extension": ".py",
   "mimetype": "text/x-python",
   "name": "python",
   "nbconvert_exporter": "python",
   "pygments_lexer": "ipython3",
   "version": "3.10.11"
  },
  "orig_nbformat": 4
 },
 "nbformat": 4,
 "nbformat_minor": 2
}
